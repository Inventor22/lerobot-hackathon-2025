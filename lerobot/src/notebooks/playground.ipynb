{
 "cells": [
  {
   "cell_type": "code",
   "execution_count": 1,
   "metadata": {},
   "outputs": [],
   "source": [
    "%reload_ext autoreload\n",
    "%autoreload 2"
   ]
  },
  {
   "cell_type": "code",
   "execution_count": null,
   "metadata": {},
   "outputs": [],
   "source": [
    "from lerobot.src.classes.corexy_stylus_teleop import (\n",
    "    CoreXYStylusTeleopConfig, CoreXYStylusTeleop\n",
    ")\n",
    "\n",
    "teleop = CoreXYStylusTeleop(CoreXYStylusTeleopConfig())\n",
    "teleop.connect()\n",
    "\n",
    "try:\n",
    "    while teleop._running:\n",
    "        action = teleop.get_action()\n",
    "        if action[\"tap\"]: # ignore idle frames\n",
    "            pass\n",
    "finally:\n",
    "    teleop.disconnect()"
   ]
  },
  {
   "cell_type": "code",
   "execution_count": null,
   "metadata": {},
   "outputs": [],
   "source": [
    "from lerobot.src.classes.corexy_stylus_robot import (\n",
    "    CoreXYStylusRobotConfig, CoreXYStylusRobot\n",
    ")\n",
    "\n",
    "robot  = CoreXYStylusRobot(CoreXYStylusRobotConfig(port=\"COM5\"))\n",
    "robot.connect(calibrate=True)\n",
    "\n",
    "try:\n",
    "    while True:\n",
    "        robot.send_action({\"x\": 0.45, \"y\": 0.45, \"tap\": 1})\n",
    "        robot.send_action({\"x\": 0.55, \"y\": 0.55, \"tap\": 1})\n",
    "finally:\n",
    "    teleop.disconnect()\n",
    "    robot.disconnect()"
   ]
  },
  {
   "cell_type": "code",
   "execution_count": null,
   "metadata": {},
   "outputs": [],
   "source": [
    "from lerobot.src.classes.corexy_stylus_teleop import (\n",
    "    CoreXYStylusTeleopConfig, CoreXYStylusTeleop\n",
    ")\n",
    "from lerobot.src.classes.corexy_stylus_robot import (\n",
    "    CoreXYStylusRobotConfig, CoreXYStylusRobot\n",
    ")\n",
    "\n",
    "teleop = CoreXYStylusTeleop(CoreXYStylusTeleopConfig())\n",
    "robot  = CoreXYStylusRobot(CoreXYStylusRobotConfig(port=\"COM5\"))\n",
    "\n",
    "teleop.connect()\n",
    "robot.connect(calibrate=True)\n",
    "\n",
    "try:\n",
    "    while teleop._running:\n",
    "        action = teleop.get_action()\n",
    "        if action[\"tap\"]:          # ignore idle frames\n",
    "            #robot.send_action(action)\n",
    "            pass\n",
    "finally:\n",
    "    teleop.disconnect()\n",
    "    robot.disconnect()\n"
   ]
  },
  {
   "cell_type": "code",
   "execution_count": null,
   "metadata": {},
   "outputs": [],
   "source": [
    "import cv2\n",
    "import numpy as np\n",
    "print(\"OpenCV:\", cv2.__version__, \"| NumPy:\", np.__version__)\n",
    "cv2.namedWindow(\"dummy\")  # should succeed\n",
    "cv2.destroyAllWindows()\n"
   ]
  },
  {
   "cell_type": "code",
   "execution_count": null,
   "metadata": {},
   "outputs": [],
   "source": [
    "import cv2\n",
    "import numpy as np\n",
    "import time\n",
    "\n",
    "cap = cv2.VideoCapture(0, cv2.CAP_DSHOW)\n",
    "cap.set(cv2.CAP_PROP_FRAME_WIDTH,  1920)   # request 1080p; harmless if ignored\n",
    "cap.set(cv2.CAP_PROP_FRAME_HEIGHT, 1080)\n",
    "\n",
    "ret, frame = cap.read()\n",
    "if not ret:\n",
    "    raise RuntimeError(\"No video signal from capture card\")\n",
    "\n",
    "# Any pixel with luma > threshold is “active”; tweak thr if your bars are grey\n",
    "gray = cv2.cvtColor(frame, cv2.COLOR_BGR2GRAY)\n",
    "thr  = 20 # 0–255; raise if bars look grey\n",
    "ys, xs = np.where(gray > thr)\n",
    "\n",
    "y0, y1 = ys.min(), ys.max()\n",
    "x0, x1 = xs.min(), xs.max()\n",
    "roi    = np.s_[y0:y1+1, x0:x1+1] # slice we’ll apply each frame\n",
    "Hc, Wc = y1 - y0 + 1, x1 - x0 + 1\n",
    "print(f\"Active picture: {Wc}×{Hc}  (cropped {frame.shape[1]}×{frame.shape[0]})\")\n",
    "\n",
    "# 4:3 sanity check (optional)\n",
    "print(f\"Aspect ≈ {Wc/Hc:.2f}  (expected 1.33 for 4∶3)\")\n",
    "\n",
    "cv2.namedWindow(\"iPad – clean 4:3\", cv2.WINDOW_NORMAL)\n",
    "cv2.resizeWindow(\"iPad – clean 4:3\", Wc, Hc)\n",
    "\n",
    "while True:\n",
    "    ret, frame = cap.read()\n",
    "    if not ret: break\n",
    "\n",
    "    ipad = frame[roi] # fast NumPy view – no copy\n",
    "    cv2.imshow(\"iPad – clean 4:3\", ipad)\n",
    "\n",
    "    k = cv2.waitKey(1) & 0xFF\n",
    "    if k == 27: break # Esc\n",
    "\n",
    "\n",
    "cap.release(); cv2.destroyAllWindows()"
   ]
  },
  {
   "cell_type": "code",
   "execution_count": null,
   "metadata": {},
   "outputs": [],
   "source": [
    "import cv2, threading, time\n",
    "\n",
    "fps = 30\n",
    "\n",
    "cap = cv2.VideoCapture(0, cv2.CAP_DSHOW)\n",
    "cap.set(cv2.CAP_PROP_FRAME_WIDTH,  1920)   # request 1080p; harmless if ignored\n",
    "cap.set(cv2.CAP_PROP_FRAME_HEIGHT, 1080)\n",
    "\n",
    "def _window_loop():\n",
    "    cv2.setMouseCallback(\"Test\", _on_mouse)\n",
    "    \n",
    "    while True:\n",
    "        ret, frame = cap.read()\n",
    "        cv2.imshow(\"Test\", frame)\n",
    "        if cv2.waitKey(1) & 0xFF == 27:  # ESC to quit window\n",
    "            break\n",
    "        time.sleep(1 / fps)\n",
    "\n",
    "def _on_mouse(event, x, y, flags, param):\n",
    "    if event == cv2.EVENT_LBUTTONDOWN:\n",
    "        print(f\"Mouse clicked at {x}, {y}\")\n",
    "\n",
    "ret, frame = cap.read()\n",
    "cv2.imshow(\"Test\", frame)\n",
    "\n",
    "threading.Thread(target=_window_loop, daemon=True).start()\n",
    "\n",
    "while True:\n",
    "    time.sleep(0.1)\n"
   ]
  },
  {
   "cell_type": "code",
   "execution_count": null,
   "metadata": {},
   "outputs": [],
   "source": []
  }
 ],
 "metadata": {
  "kernelspec": {
   "display_name": "lerobot",
   "language": "python",
   "name": "python3"
  },
  "language_info": {
   "codemirror_mode": {
    "name": "ipython",
    "version": 3
   },
   "file_extension": ".py",
   "mimetype": "text/x-python",
   "name": "python",
   "nbconvert_exporter": "python",
   "pygments_lexer": "ipython3",
   "version": "3.10.18"
  }
 },
 "nbformat": 4,
 "nbformat_minor": 2
}
